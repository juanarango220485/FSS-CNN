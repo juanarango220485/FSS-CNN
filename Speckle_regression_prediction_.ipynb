{
  "nbformat": 4,
  "nbformat_minor": 0,
  "metadata": {
    "colab": {
      "provenance": [],
      "mount_file_id": "1SDIgte_cT_ig8p3M-_KMnpaVVIsfyS9j",
      "authorship_tag": "ABX9TyMr3bjFJFHKe3lNJM9+ShPG",
      "include_colab_link": true
    },
    "kernelspec": {
      "name": "python3",
      "display_name": "Python 3"
    },
    "language_info": {
      "name": "python"
    },
    "accelerator": "GPU",
    "gpuClass": "standard"
  },
  "cells": [
    {
      "cell_type": "markdown",
      "metadata": {
        "id": "view-in-github",
        "colab_type": "text"
      },
      "source": [
        "<a href=\"https://colab.research.google.com/github/juanarango220485/FSS-CNN/blob/master/Speckle_regression_prediction_.ipynb\" target=\"_parent\"><img src=\"https://colab.research.google.com/assets/colab-badge.svg\" alt=\"Open In Colab\"/></a>"
      ]
    },
    {
      "cell_type": "markdown",
      "source": [
        "#**Speckle regression prediction**\n",
        "With this notebook it is possible to predict the synthetic specklegrams, of a fiber specklegram sensor, with the CNN network trained for this task. You can find the synthetic dataset in [Kaggle](https://doi.org/10.34740/kaggle/dsv/3583524).<br><br>\n",
        "\n",
        "**Authors:** *Juan Arango, Victor Aristizabal, Francisco Velez, Juan Carrasquilla, Jorge Gomez, Jairo Quijano, and Jorge Herrera-Ramirez*"
      ],
      "metadata": {
        "id": "FkxLJrCAQbA9"
      }
    },
    {
      "cell_type": "markdown",
      "source": [
        "### **1.** Importing libraries and dataset"
      ],
      "metadata": {
        "id": "8JzPSbnbSfou"
      }
    },
    {
      "cell_type": "code",
      "source": [
        "!git clone https://github.com/juanarango220485/FSS-CNN.git"
      ],
      "metadata": {
        "colab": {
          "base_uri": "https://localhost:8080/"
        },
        "id": "D37_zBhCNuAd",
        "outputId": "98815d4f-6616-4b67-b27f-c2f9ab5882c9"
      },
      "execution_count": null,
      "outputs": [
        {
          "output_type": "stream",
          "name": "stdout",
          "text": [
            "Cloning into 'FSS-CNN'...\n",
            "remote: Enumerating objects: 653, done.\u001b[K\n",
            "remote: Counting objects: 100% (222/222), done.\u001b[K\n",
            "remote: Compressing objects: 100% (98/98), done.\u001b[K\n",
            "remote: Total 653 (delta 124), reused 222 (delta 124), pack-reused 431\u001b[K\n",
            "Receiving objects: 100% (653/653), 113.65 MiB | 16.60 MiB/s, done.\n",
            "Resolving deltas: 100% (394/394), done.\n"
          ]
        }
      ]
    },
    {
      "cell_type": "markdown",
      "source": [
        "**NOTE:** Because it does not export correctly the \"model.h5\" file directly from Github, it is necessary to download it from the link https://github.com/juanarango220485/FSS-CNN/blob/0fbc203a5a01f556e92354f09d72283dbd8c5b1f/model.h5\n",
        "\n",
        "![](https://drive.google.com/uc?export=view&id=1zjObuht_BsXxm8eHBP2VKntwmxpDPWt9)\n",
        "\n",
        "Then you have to:\n",
        "\n",
        "1. Upload it again and wait for it to load\n",
        "2. Update Colab files\n",
        "\n",
        "Make sure that the name of the file you upload is \"model.h5 \"\n"
      ],
      "metadata": {
        "id": "et_CZi62HoFp"
      }
    },
    {
      "cell_type": "code",
      "metadata": {
        "id": "3nzz8DfYjmeZ"
      },
      "source": [
        "import numpy as np\n",
        "from tensorflow.keras.preprocessing.image import load_img, img_to_array\n",
        "from tensorflow.keras.models import load_model\n",
        "from PIL import Image\n",
        "\n",
        "longitud, altura = 224, 224\n",
        "cnn = load_model('model.h5')\n",
        "cnn.load_weights('/content/FSS-CNN/weights.h5')\n",
        "\n",
        "#cnn.summary()                                # Uncomment to show the network model"
      ],
      "execution_count": null,
      "outputs": []
    },
    {
      "cell_type": "code",
      "source": [
        "import glob, os\n",
        "data = '/content/FSS-CNN/dataset'                            # folder where the speckles are\n",
        "os.chdir(data)\n",
        "files = []                                    # \"files\" is a list (of strings) that will contain each of the NAMES of the images.\n",
        "for file in glob.glob(\"*.tiff\"):              # We read all .tiff files\n",
        "      files.append(file)\n",
        "\n",
        "num_datos = 601\n",
        "dim = 126 #dimension (dim, dim)\n",
        "y = np.zeros(shape=[num_datos])               # We create an empty numpy array to store the corresponding temperature labels\n",
        "\n",
        "for i in range(0,num_datos):\n",
        "    ini = files[i].find('mm_')+3\n",
        "    fin = files[i].find('°C')\n",
        "    y[i] = float(files[i][ini:fin])           # Extracted temperature value from the string"
      ],
      "metadata": {
        "id": "h9Sn0UO5AHkB"
      },
      "execution_count": null,
      "outputs": []
    },
    {
      "cell_type": "markdown",
      "source": [
        "###**2.** Predicting desired data\n",
        "From 601 specklegrams we can choose in the variable 'num' (between 1 and 601)  the specklegram to select and predicted. The specklegram will be plotted and the actual and predicted temperature will be displayed."
      ],
      "metadata": {
        "id": "yVftIVk5Sux9"
      }
    },
    {
      "cell_type": "code",
      "source": [
        "#-------------------------------------------------------------------------------\n",
        "\n",
        "num = 40     # Choose data to predict (between 1 and 601)                   \n",
        "\n",
        "# ------------------------------------------------------------------------------\n",
        "\n",
        "\n",
        "I = Image.fromarray(np.asarray(load_img(files[num+1], color_mode='rgb', target_size=(dim, dim))), 'RGB')\n",
        "display(I.resize((150,150), Image.LANCZOS))\n",
        "img = np.zeros(shape=[1, dim, dim, 3], dtype=np.uint16)\n",
        "img[0,:,:,:] = np.asarray(load_img(files[num+1], color_mode='rgb', target_size=(dim, dim)))\n",
        "y_predict = cnn.predict(img)\n",
        "\n",
        "print(\"Real temperature:\", y[num+1], \"°C\")\n",
        "print(\"Pred. temperature:\", y_predict[0,0], \"°C\")"
      ],
      "metadata": {
        "colab": {
          "base_uri": "https://localhost:8080/",
          "height": 203
        },
        "id": "d7oQcR-gBwNC",
        "outputId": "aa09d0b8-ff79-4e4d-ad2b-4d9909bd2e9d"
      },
      "execution_count": null,
      "outputs": [
        {
          "output_type": "display_data",
          "data": {
            "text/plain": [
              "<PIL.Image.Image image mode=RGB size=150x150 at 0x7F731646E190>"
            ],
            "image/png": "[encoded data removed]"
          },
          "metadata": {}
        },
        {
          "output_type": "stream",
          "name": "stdout",
          "text": [
            "Real temperature: 68.8 °C\n",
            "Pred. temperature: 70.456436 °C\n"
          ]
        }
      ]
    }
  ]
}